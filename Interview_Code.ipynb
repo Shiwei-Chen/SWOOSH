{
  "nbformat": 4,
  "nbformat_minor": 0,
  "metadata": {
    "colab": {
      "provenance": [],
      "authorship_tag": "ABX9TyPAAz7oDKz4DVZ32XgQxKJk",
      "include_colab_link": true
    },
    "kernelspec": {
      "name": "python3",
      "display_name": "Python 3"
    },
    "language_info": {
      "name": "python"
    }
  },
  "cells": [
    {
      "cell_type": "markdown",
      "metadata": {
        "id": "view-in-github",
        "colab_type": "text"
      },
      "source": [
        "<a href=\"https://colab.research.google.com/github/Shiwei-Chen/SWOOSH/blob/main/Interview_Code.ipynb\" target=\"_parent\"><img src=\"https://colab.research.google.com/assets/colab-badge.svg\" alt=\"Open In Colab\"/></a>"
      ]
    },
    {
      "cell_type": "code",
      "execution_count": 1,
      "metadata": {
        "id": "KJHmHVm20On3"
      },
      "outputs": [],
      "source": [
        "# IMPORT ESSENTIAL PACKAGE#\n",
        "import pandas as pd\n",
        "import matplotlib.pyplot as plt\n",
        "import numpy as np\n",
        "import seaborn as sns"
      ]
    },
    {
      "cell_type": "code",
      "source": [
        "dataurl = \"https://raw.githubusercontent.com/Shiwei-Chen/SWOOSH/main/data.csv\"\n",
        "\n",
        "df = pd.read_csv(dataurl)\n",
        "df.head(10)"
      ],
      "metadata": {
        "colab": {
          "base_uri": "https://localhost:8080/",
          "height": 363
        },
        "id": "hlpW1Mu_bcPr",
        "outputId": "118d735b-eb35-4830-d32a-540e8a33cb5b"
      },
      "execution_count": 3,
      "outputs": [
        {
          "output_type": "execute_result",
          "data": {
            "text/plain": [
              "   month  quantity  product_real_price  service_score  real_disp_pers_inc  \\\n",
              "0  5-Feb  40415305            0.564579           2207              9190.1   \n",
              "1  5-Mar  52544001            0.560363           1864              9183.5   \n",
              "2  5-Apr  56089039            0.578420           2061              9206.1   \n",
              "3  5-May  50559014            0.596748           2025              9253.6   \n",
              "4  5-Jun  53225857            0.595003           2068              9299.9   \n",
              "5  5-Jul  49423136            0.589750           2054              9322.9   \n",
              "6  5-Aug  56152897            0.585170           2095              9328.3   \n",
              "7  5-Sep  54249937            0.585492           2151              9273.7   \n",
              "8  5-Oct  43868678            0.566283           2065              9300.1   \n",
              "9  5-Nov  44498684            0.573497           2147              9365.8   \n",
              "\n",
              "   product_stores  M01  M02  M03  M04  M05  M06  M07  M08  M09  M10  M11  M12  \n",
              "0        686.9054    0    1    0    0    0    0    0    0    0    0    0    0  \n",
              "1        688.2814    0    0    1    0    0    0    0    0    0    0    0    0  \n",
              "2        687.4706    0    0    0    1    0    0    0    0    0    0    0    0  \n",
              "3        689.1815    0    0    0    0    1    0    0    0    0    0    0    0  \n",
              "4        692.9923    0    0    0    0    0    1    0    0    0    0    0    0  \n",
              "5        692.3075    0    0    0    0    0    0    1    0    0    0    0    0  \n",
              "6        692.6835    0    0    0    0    0    0    0    1    0    0    0    0  \n",
              "7        693.2031    0    0    0    0    0    0    0    0    1    0    0    0  \n",
              "8        696.4139    0    0    0    0    0    0    0    0    0    1    0    0  \n",
              "9        696.7292    0    0    0    0    0    0    0    0    0    0    1    0  "
            ],
            "text/html": [
              "\n",
              "  <div id=\"df-e1574875-244a-45b7-a1de-2c21e57c22fb\">\n",
              "    <div class=\"colab-df-container\">\n",
              "      <div>\n",
              "<style scoped>\n",
              "    .dataframe tbody tr th:only-of-type {\n",
              "        vertical-align: middle;\n",
              "    }\n",
              "\n",
              "    .dataframe tbody tr th {\n",
              "        vertical-align: top;\n",
              "    }\n",
              "\n",
              "    .dataframe thead th {\n",
              "        text-align: right;\n",
              "    }\n",
              "</style>\n",
              "<table border=\"1\" class=\"dataframe\">\n",
              "  <thead>\n",
              "    <tr style=\"text-align: right;\">\n",
              "      <th></th>\n",
              "      <th>month</th>\n",
              "      <th>quantity</th>\n",
              "      <th>product_real_price</th>\n",
              "      <th>service_score</th>\n",
              "      <th>real_disp_pers_inc</th>\n",
              "      <th>product_stores</th>\n",
              "      <th>M01</th>\n",
              "      <th>M02</th>\n",
              "      <th>M03</th>\n",
              "      <th>M04</th>\n",
              "      <th>M05</th>\n",
              "      <th>M06</th>\n",
              "      <th>M07</th>\n",
              "      <th>M08</th>\n",
              "      <th>M09</th>\n",
              "      <th>M10</th>\n",
              "      <th>M11</th>\n",
              "      <th>M12</th>\n",
              "    </tr>\n",
              "  </thead>\n",
              "  <tbody>\n",
              "    <tr>\n",
              "      <th>0</th>\n",
              "      <td>5-Feb</td>\n",
              "      <td>40415305</td>\n",
              "      <td>0.564579</td>\n",
              "      <td>2207</td>\n",
              "      <td>9190.1</td>\n",
              "      <td>686.9054</td>\n",
              "      <td>0</td>\n",
              "      <td>1</td>\n",
              "      <td>0</td>\n",
              "      <td>0</td>\n",
              "      <td>0</td>\n",
              "      <td>0</td>\n",
              "      <td>0</td>\n",
              "      <td>0</td>\n",
              "      <td>0</td>\n",
              "      <td>0</td>\n",
              "      <td>0</td>\n",
              "      <td>0</td>\n",
              "    </tr>\n",
              "    <tr>\n",
              "      <th>1</th>\n",
              "      <td>5-Mar</td>\n",
              "      <td>52544001</td>\n",
              "      <td>0.560363</td>\n",
              "      <td>1864</td>\n",
              "      <td>9183.5</td>\n",
              "      <td>688.2814</td>\n",
              "      <td>0</td>\n",
              "      <td>0</td>\n",
              "      <td>1</td>\n",
              "      <td>0</td>\n",
              "      <td>0</td>\n",
              "      <td>0</td>\n",
              "      <td>0</td>\n",
              "      <td>0</td>\n",
              "      <td>0</td>\n",
              "      <td>0</td>\n",
              "      <td>0</td>\n",
              "      <td>0</td>\n",
              "    </tr>\n",
              "    <tr>\n",
              "      <th>2</th>\n",
              "      <td>5-Apr</td>\n",
              "      <td>56089039</td>\n",
              "      <td>0.578420</td>\n",
              "      <td>2061</td>\n",
              "      <td>9206.1</td>\n",
              "      <td>687.4706</td>\n",
              "      <td>0</td>\n",
              "      <td>0</td>\n",
              "      <td>0</td>\n",
              "      <td>1</td>\n",
              "      <td>0</td>\n",
              "      <td>0</td>\n",
              "      <td>0</td>\n",
              "      <td>0</td>\n",
              "      <td>0</td>\n",
              "      <td>0</td>\n",
              "      <td>0</td>\n",
              "      <td>0</td>\n",
              "    </tr>\n",
              "    <tr>\n",
              "      <th>3</th>\n",
              "      <td>5-May</td>\n",
              "      <td>50559014</td>\n",
              "      <td>0.596748</td>\n",
              "      <td>2025</td>\n",
              "      <td>9253.6</td>\n",
              "      <td>689.1815</td>\n",
              "      <td>0</td>\n",
              "      <td>0</td>\n",
              "      <td>0</td>\n",
              "      <td>0</td>\n",
              "      <td>1</td>\n",
              "      <td>0</td>\n",
              "      <td>0</td>\n",
              "      <td>0</td>\n",
              "      <td>0</td>\n",
              "      <td>0</td>\n",
              "      <td>0</td>\n",
              "      <td>0</td>\n",
              "    </tr>\n",
              "    <tr>\n",
              "      <th>4</th>\n",
              "      <td>5-Jun</td>\n",
              "      <td>53225857</td>\n",
              "      <td>0.595003</td>\n",
              "      <td>2068</td>\n",
              "      <td>9299.9</td>\n",
              "      <td>692.9923</td>\n",
              "      <td>0</td>\n",
              "      <td>0</td>\n",
              "      <td>0</td>\n",
              "      <td>0</td>\n",
              "      <td>0</td>\n",
              "      <td>1</td>\n",
              "      <td>0</td>\n",
              "      <td>0</td>\n",
              "      <td>0</td>\n",
              "      <td>0</td>\n",
              "      <td>0</td>\n",
              "      <td>0</td>\n",
              "    </tr>\n",
              "    <tr>\n",
              "      <th>5</th>\n",
              "      <td>5-Jul</td>\n",
              "      <td>49423136</td>\n",
              "      <td>0.589750</td>\n",
              "      <td>2054</td>\n",
              "      <td>9322.9</td>\n",
              "      <td>692.3075</td>\n",
              "      <td>0</td>\n",
              "      <td>0</td>\n",
              "      <td>0</td>\n",
              "      <td>0</td>\n",
              "      <td>0</td>\n",
              "      <td>0</td>\n",
              "      <td>1</td>\n",
              "      <td>0</td>\n",
              "      <td>0</td>\n",
              "      <td>0</td>\n",
              "      <td>0</td>\n",
              "      <td>0</td>\n",
              "    </tr>\n",
              "    <tr>\n",
              "      <th>6</th>\n",
              "      <td>5-Aug</td>\n",
              "      <td>56152897</td>\n",
              "      <td>0.585170</td>\n",
              "      <td>2095</td>\n",
              "      <td>9328.3</td>\n",
              "      <td>692.6835</td>\n",
              "      <td>0</td>\n",
              "      <td>0</td>\n",
              "      <td>0</td>\n",
              "      <td>0</td>\n",
              "      <td>0</td>\n",
              "      <td>0</td>\n",
              "      <td>0</td>\n",
              "      <td>1</td>\n",
              "      <td>0</td>\n",
              "      <td>0</td>\n",
              "      <td>0</td>\n",
              "      <td>0</td>\n",
              "    </tr>\n",
              "    <tr>\n",
              "      <th>7</th>\n",
              "      <td>5-Sep</td>\n",
              "      <td>54249937</td>\n",
              "      <td>0.585492</td>\n",
              "      <td>2151</td>\n",
              "      <td>9273.7</td>\n",
              "      <td>693.2031</td>\n",
              "      <td>0</td>\n",
              "      <td>0</td>\n",
              "      <td>0</td>\n",
              "      <td>0</td>\n",
              "      <td>0</td>\n",
              "      <td>0</td>\n",
              "      <td>0</td>\n",
              "      <td>0</td>\n",
              "      <td>1</td>\n",
              "      <td>0</td>\n",
              "      <td>0</td>\n",
              "      <td>0</td>\n",
              "    </tr>\n",
              "    <tr>\n",
              "      <th>8</th>\n",
              "      <td>5-Oct</td>\n",
              "      <td>43868678</td>\n",
              "      <td>0.566283</td>\n",
              "      <td>2065</td>\n",
              "      <td>9300.1</td>\n",
              "      <td>696.4139</td>\n",
              "      <td>0</td>\n",
              "      <td>0</td>\n",
              "      <td>0</td>\n",
              "      <td>0</td>\n",
              "      <td>0</td>\n",
              "      <td>0</td>\n",
              "      <td>0</td>\n",
              "      <td>0</td>\n",
              "      <td>0</td>\n",
              "      <td>1</td>\n",
              "      <td>0</td>\n",
              "      <td>0</td>\n",
              "    </tr>\n",
              "    <tr>\n",
              "      <th>9</th>\n",
              "      <td>5-Nov</td>\n",
              "      <td>44498684</td>\n",
              "      <td>0.573497</td>\n",
              "      <td>2147</td>\n",
              "      <td>9365.8</td>\n",
              "      <td>696.7292</td>\n",
              "      <td>0</td>\n",
              "      <td>0</td>\n",
              "      <td>0</td>\n",
              "      <td>0</td>\n",
              "      <td>0</td>\n",
              "      <td>0</td>\n",
              "      <td>0</td>\n",
              "      <td>0</td>\n",
              "      <td>0</td>\n",
              "      <td>0</td>\n",
              "      <td>1</td>\n",
              "      <td>0</td>\n",
              "    </tr>\n",
              "  </tbody>\n",
              "</table>\n",
              "</div>\n",
              "      <button class=\"colab-df-convert\" onclick=\"convertToInteractive('df-e1574875-244a-45b7-a1de-2c21e57c22fb')\"\n",
              "              title=\"Convert this dataframe to an interactive table.\"\n",
              "              style=\"display:none;\">\n",
              "        \n",
              "  <svg xmlns=\"http://www.w3.org/2000/svg\" height=\"24px\"viewBox=\"0 0 24 24\"\n",
              "       width=\"24px\">\n",
              "    <path d=\"M0 0h24v24H0V0z\" fill=\"none\"/>\n",
              "    <path d=\"M18.56 5.44l.94 2.06.94-2.06 2.06-.94-2.06-.94-.94-2.06-.94 2.06-2.06.94zm-11 1L8.5 8.5l.94-2.06 2.06-.94-2.06-.94L8.5 2.5l-.94 2.06-2.06.94zm10 10l.94 2.06.94-2.06 2.06-.94-2.06-.94-.94-2.06-.94 2.06-2.06.94z\"/><path d=\"M17.41 7.96l-1.37-1.37c-.4-.4-.92-.59-1.43-.59-.52 0-1.04.2-1.43.59L10.3 9.45l-7.72 7.72c-.78.78-.78 2.05 0 2.83L4 21.41c.39.39.9.59 1.41.59.51 0 1.02-.2 1.41-.59l7.78-7.78 2.81-2.81c.8-.78.8-2.07 0-2.86zM5.41 20L4 18.59l7.72-7.72 1.47 1.35L5.41 20z\"/>\n",
              "  </svg>\n",
              "      </button>\n",
              "      \n",
              "  <style>\n",
              "    .colab-df-container {\n",
              "      display:flex;\n",
              "      flex-wrap:wrap;\n",
              "      gap: 12px;\n",
              "    }\n",
              "\n",
              "    .colab-df-convert {\n",
              "      background-color: #E8F0FE;\n",
              "      border: none;\n",
              "      border-radius: 50%;\n",
              "      cursor: pointer;\n",
              "      display: none;\n",
              "      fill: #1967D2;\n",
              "      height: 32px;\n",
              "      padding: 0 0 0 0;\n",
              "      width: 32px;\n",
              "    }\n",
              "\n",
              "    .colab-df-convert:hover {\n",
              "      background-color: #E2EBFA;\n",
              "      box-shadow: 0px 1px 2px rgba(60, 64, 67, 0.3), 0px 1px 3px 1px rgba(60, 64, 67, 0.15);\n",
              "      fill: #174EA6;\n",
              "    }\n",
              "\n",
              "    [theme=dark] .colab-df-convert {\n",
              "      background-color: #3B4455;\n",
              "      fill: #D2E3FC;\n",
              "    }\n",
              "\n",
              "    [theme=dark] .colab-df-convert:hover {\n",
              "      background-color: #434B5C;\n",
              "      box-shadow: 0px 1px 3px 1px rgba(0, 0, 0, 0.15);\n",
              "      filter: drop-shadow(0px 1px 2px rgba(0, 0, 0, 0.3));\n",
              "      fill: #FFFFFF;\n",
              "    }\n",
              "  </style>\n",
              "\n",
              "      <script>\n",
              "        const buttonEl =\n",
              "          document.querySelector('#df-e1574875-244a-45b7-a1de-2c21e57c22fb button.colab-df-convert');\n",
              "        buttonEl.style.display =\n",
              "          google.colab.kernel.accessAllowed ? 'block' : 'none';\n",
              "\n",
              "        async function convertToInteractive(key) {\n",
              "          const element = document.querySelector('#df-e1574875-244a-45b7-a1de-2c21e57c22fb');\n",
              "          const dataTable =\n",
              "            await google.colab.kernel.invokeFunction('convertToInteractive',\n",
              "                                                     [key], {});\n",
              "          if (!dataTable) return;\n",
              "\n",
              "          const docLinkHtml = 'Like what you see? Visit the ' +\n",
              "            '<a target=\"_blank\" href=https://colab.research.google.com/notebooks/data_table.ipynb>data table notebook</a>'\n",
              "            + ' to learn more about interactive tables.';\n",
              "          element.innerHTML = '';\n",
              "          dataTable['output_type'] = 'display_data';\n",
              "          await google.colab.output.renderOutput(dataTable, element);\n",
              "          const docLink = document.createElement('div');\n",
              "          docLink.innerHTML = docLinkHtml;\n",
              "          element.appendChild(docLink);\n",
              "        }\n",
              "      </script>\n",
              "    </div>\n",
              "  </div>\n",
              "  "
            ]
          },
          "metadata": {},
          "execution_count": 3
        }
      ]
    },
    {
      "cell_type": "code",
      "source": [
        "#Check data types\n",
        "df.dtypes"
      ],
      "metadata": {
        "colab": {
          "base_uri": "https://localhost:8080/"
        },
        "id": "k9JQUwLnb6M1",
        "outputId": "e4bd67c3-4520-4c58-c37f-f1669ac2650f"
      },
      "execution_count": 4,
      "outputs": [
        {
          "output_type": "execute_result",
          "data": {
            "text/plain": [
              "month                  object\n",
              "quantity                int64\n",
              "product_real_price    float64\n",
              "service_score           int64\n",
              "real_disp_pers_inc    float64\n",
              "product_stores        float64\n",
              "M01                     int64\n",
              "M02                     int64\n",
              "M03                     int64\n",
              "M04                     int64\n",
              "M05                     int64\n",
              "M06                     int64\n",
              "M07                     int64\n",
              "M08                     int64\n",
              "M09                     int64\n",
              "M10                     int64\n",
              "M11                     int64\n",
              "M12                     int64\n",
              "dtype: object"
            ]
          },
          "metadata": {},
          "execution_count": 4
        }
      ]
    },
    {
      "cell_type": "code",
      "source": [
        "#Check if null value exists\n",
        "df.isnull().sum().any()"
      ],
      "metadata": {
        "colab": {
          "base_uri": "https://localhost:8080/"
        },
        "id": "vHP0W4PicrpY",
        "outputId": "1905024a-656f-4ad7-8fb3-e6616df27a21"
      },
      "execution_count": 5,
      "outputs": [
        {
          "output_type": "execute_result",
          "data": {
            "text/plain": [
              "False"
            ]
          },
          "metadata": {},
          "execution_count": 5
        }
      ]
    },
    {
      "cell_type": "code",
      "source": [
        "# ,'log_price','log_score','log_income'\n",
        "# ,'product_real_price','service_score','real_disp_pers_inc'\n",
        "dflog = df\n",
        "\n",
        "dflog['log_quantity'] = np.log(dflog['quantity'])\n",
        "dflog['log_price'] = np.log(dflog['product_real_price'])\n",
        "dflog['log_score'] = np.log(dflog['service_score'])\n",
        "dflog['log_income'] = np.log(dflog['real_disp_pers_inc'])\n",
        "\n",
        "dflog.head(10)"
      ],
      "metadata": {
        "colab": {
          "base_uri": "https://localhost:8080/",
          "height": 456
        },
        "id": "Nke0hLCceQy_",
        "outputId": "8c8e6307-ebe5-4eed-a986-5d0a1bf01c95"
      },
      "execution_count": 6,
      "outputs": [
        {
          "output_type": "execute_result",
          "data": {
            "text/plain": [
              "   month  quantity  product_real_price  service_score  real_disp_pers_inc  \\\n",
              "0  5-Feb  40415305            0.564579           2207              9190.1   \n",
              "1  5-Mar  52544001            0.560363           1864              9183.5   \n",
              "2  5-Apr  56089039            0.578420           2061              9206.1   \n",
              "3  5-May  50559014            0.596748           2025              9253.6   \n",
              "4  5-Jun  53225857            0.595003           2068              9299.9   \n",
              "5  5-Jul  49423136            0.589750           2054              9322.9   \n",
              "6  5-Aug  56152897            0.585170           2095              9328.3   \n",
              "7  5-Sep  54249937            0.585492           2151              9273.7   \n",
              "8  5-Oct  43868678            0.566283           2065              9300.1   \n",
              "9  5-Nov  44498684            0.573497           2147              9365.8   \n",
              "\n",
              "   product_stores  M01  M02  M03  M04  ...  M07  M08  M09  M10  M11  M12  \\\n",
              "0        686.9054    0    1    0    0  ...    0    0    0    0    0    0   \n",
              "1        688.2814    0    0    1    0  ...    0    0    0    0    0    0   \n",
              "2        687.4706    0    0    0    1  ...    0    0    0    0    0    0   \n",
              "3        689.1815    0    0    0    0  ...    0    0    0    0    0    0   \n",
              "4        692.9923    0    0    0    0  ...    0    0    0    0    0    0   \n",
              "5        692.3075    0    0    0    0  ...    1    0    0    0    0    0   \n",
              "6        692.6835    0    0    0    0  ...    0    1    0    0    0    0   \n",
              "7        693.2031    0    0    0    0  ...    0    0    1    0    0    0   \n",
              "8        696.4139    0    0    0    0  ...    0    0    0    1    0    0   \n",
              "9        696.7292    0    0    0    0  ...    0    0    0    0    1    0   \n",
              "\n",
              "   log_quantity  log_price  log_score  log_income  \n",
              "0     17.514719  -0.571675   7.699389    9.125882  \n",
              "1     17.777161  -0.579170   7.530480    9.125164  \n",
              "2     17.842451  -0.547455   7.630947    9.127622  \n",
              "3     17.738652  -0.516260   7.613325    9.132768  \n",
              "4     17.790055  -0.519189   7.634337    9.137759  \n",
              "5     17.715929  -0.528057   7.627544    9.140229  \n",
              "6     17.843589  -0.535853   7.647309    9.140808  \n",
              "7     17.809112  -0.535303   7.673688    9.134938  \n",
              "8     17.596711  -0.568661   7.632886    9.137780  \n",
              "9     17.610970  -0.556003   7.671827    9.144820  \n",
              "\n",
              "[10 rows x 22 columns]"
            ],
            "text/html": [
              "\n",
              "  <div id=\"df-d4593c42-f4ce-4d42-bc19-e88d3fc7fc7c\">\n",
              "    <div class=\"colab-df-container\">\n",
              "      <div>\n",
              "<style scoped>\n",
              "    .dataframe tbody tr th:only-of-type {\n",
              "        vertical-align: middle;\n",
              "    }\n",
              "\n",
              "    .dataframe tbody tr th {\n",
              "        vertical-align: top;\n",
              "    }\n",
              "\n",
              "    .dataframe thead th {\n",
              "        text-align: right;\n",
              "    }\n",
              "</style>\n",
              "<table border=\"1\" class=\"dataframe\">\n",
              "  <thead>\n",
              "    <tr style=\"text-align: right;\">\n",
              "      <th></th>\n",
              "      <th>month</th>\n",
              "      <th>quantity</th>\n",
              "      <th>product_real_price</th>\n",
              "      <th>service_score</th>\n",
              "      <th>real_disp_pers_inc</th>\n",
              "      <th>product_stores</th>\n",
              "      <th>M01</th>\n",
              "      <th>M02</th>\n",
              "      <th>M03</th>\n",
              "      <th>M04</th>\n",
              "      <th>...</th>\n",
              "      <th>M07</th>\n",
              "      <th>M08</th>\n",
              "      <th>M09</th>\n",
              "      <th>M10</th>\n",
              "      <th>M11</th>\n",
              "      <th>M12</th>\n",
              "      <th>log_quantity</th>\n",
              "      <th>log_price</th>\n",
              "      <th>log_score</th>\n",
              "      <th>log_income</th>\n",
              "    </tr>\n",
              "  </thead>\n",
              "  <tbody>\n",
              "    <tr>\n",
              "      <th>0</th>\n",
              "      <td>5-Feb</td>\n",
              "      <td>40415305</td>\n",
              "      <td>0.564579</td>\n",
              "      <td>2207</td>\n",
              "      <td>9190.1</td>\n",
              "      <td>686.9054</td>\n",
              "      <td>0</td>\n",
              "      <td>1</td>\n",
              "      <td>0</td>\n",
              "      <td>0</td>\n",
              "      <td>...</td>\n",
              "      <td>0</td>\n",
              "      <td>0</td>\n",
              "      <td>0</td>\n",
              "      <td>0</td>\n",
              "      <td>0</td>\n",
              "      <td>0</td>\n",
              "      <td>17.514719</td>\n",
              "      <td>-0.571675</td>\n",
              "      <td>7.699389</td>\n",
              "      <td>9.125882</td>\n",
              "    </tr>\n",
              "    <tr>\n",
              "      <th>1</th>\n",
              "      <td>5-Mar</td>\n",
              "      <td>52544001</td>\n",
              "      <td>0.560363</td>\n",
              "      <td>1864</td>\n",
              "      <td>9183.5</td>\n",
              "      <td>688.2814</td>\n",
              "      <td>0</td>\n",
              "      <td>0</td>\n",
              "      <td>1</td>\n",
              "      <td>0</td>\n",
              "      <td>...</td>\n",
              "      <td>0</td>\n",
              "      <td>0</td>\n",
              "      <td>0</td>\n",
              "      <td>0</td>\n",
              "      <td>0</td>\n",
              "      <td>0</td>\n",
              "      <td>17.777161</td>\n",
              "      <td>-0.579170</td>\n",
              "      <td>7.530480</td>\n",
              "      <td>9.125164</td>\n",
              "    </tr>\n",
              "    <tr>\n",
              "      <th>2</th>\n",
              "      <td>5-Apr</td>\n",
              "      <td>56089039</td>\n",
              "      <td>0.578420</td>\n",
              "      <td>2061</td>\n",
              "      <td>9206.1</td>\n",
              "      <td>687.4706</td>\n",
              "      <td>0</td>\n",
              "      <td>0</td>\n",
              "      <td>0</td>\n",
              "      <td>1</td>\n",
              "      <td>...</td>\n",
              "      <td>0</td>\n",
              "      <td>0</td>\n",
              "      <td>0</td>\n",
              "      <td>0</td>\n",
              "      <td>0</td>\n",
              "      <td>0</td>\n",
              "      <td>17.842451</td>\n",
              "      <td>-0.547455</td>\n",
              "      <td>7.630947</td>\n",
              "      <td>9.127622</td>\n",
              "    </tr>\n",
              "    <tr>\n",
              "      <th>3</th>\n",
              "      <td>5-May</td>\n",
              "      <td>50559014</td>\n",
              "      <td>0.596748</td>\n",
              "      <td>2025</td>\n",
              "      <td>9253.6</td>\n",
              "      <td>689.1815</td>\n",
              "      <td>0</td>\n",
              "      <td>0</td>\n",
              "      <td>0</td>\n",
              "      <td>0</td>\n",
              "      <td>...</td>\n",
              "      <td>0</td>\n",
              "      <td>0</td>\n",
              "      <td>0</td>\n",
              "      <td>0</td>\n",
              "      <td>0</td>\n",
              "      <td>0</td>\n",
              "      <td>17.738652</td>\n",
              "      <td>-0.516260</td>\n",
              "      <td>7.613325</td>\n",
              "      <td>9.132768</td>\n",
              "    </tr>\n",
              "    <tr>\n",
              "      <th>4</th>\n",
              "      <td>5-Jun</td>\n",
              "      <td>53225857</td>\n",
              "      <td>0.595003</td>\n",
              "      <td>2068</td>\n",
              "      <td>9299.9</td>\n",
              "      <td>692.9923</td>\n",
              "      <td>0</td>\n",
              "      <td>0</td>\n",
              "      <td>0</td>\n",
              "      <td>0</td>\n",
              "      <td>...</td>\n",
              "      <td>0</td>\n",
              "      <td>0</td>\n",
              "      <td>0</td>\n",
              "      <td>0</td>\n",
              "      <td>0</td>\n",
              "      <td>0</td>\n",
              "      <td>17.790055</td>\n",
              "      <td>-0.519189</td>\n",
              "      <td>7.634337</td>\n",
              "      <td>9.137759</td>\n",
              "    </tr>\n",
              "    <tr>\n",
              "      <th>5</th>\n",
              "      <td>5-Jul</td>\n",
              "      <td>49423136</td>\n",
              "      <td>0.589750</td>\n",
              "      <td>2054</td>\n",
              "      <td>9322.9</td>\n",
              "      <td>692.3075</td>\n",
              "      <td>0</td>\n",
              "      <td>0</td>\n",
              "      <td>0</td>\n",
              "      <td>0</td>\n",
              "      <td>...</td>\n",
              "      <td>1</td>\n",
              "      <td>0</td>\n",
              "      <td>0</td>\n",
              "      <td>0</td>\n",
              "      <td>0</td>\n",
              "      <td>0</td>\n",
              "      <td>17.715929</td>\n",
              "      <td>-0.528057</td>\n",
              "      <td>7.627544</td>\n",
              "      <td>9.140229</td>\n",
              "    </tr>\n",
              "    <tr>\n",
              "      <th>6</th>\n",
              "      <td>5-Aug</td>\n",
              "      <td>56152897</td>\n",
              "      <td>0.585170</td>\n",
              "      <td>2095</td>\n",
              "      <td>9328.3</td>\n",
              "      <td>692.6835</td>\n",
              "      <td>0</td>\n",
              "      <td>0</td>\n",
              "      <td>0</td>\n",
              "      <td>0</td>\n",
              "      <td>...</td>\n",
              "      <td>0</td>\n",
              "      <td>1</td>\n",
              "      <td>0</td>\n",
              "      <td>0</td>\n",
              "      <td>0</td>\n",
              "      <td>0</td>\n",
              "      <td>17.843589</td>\n",
              "      <td>-0.535853</td>\n",
              "      <td>7.647309</td>\n",
              "      <td>9.140808</td>\n",
              "    </tr>\n",
              "    <tr>\n",
              "      <th>7</th>\n",
              "      <td>5-Sep</td>\n",
              "      <td>54249937</td>\n",
              "      <td>0.585492</td>\n",
              "      <td>2151</td>\n",
              "      <td>9273.7</td>\n",
              "      <td>693.2031</td>\n",
              "      <td>0</td>\n",
              "      <td>0</td>\n",
              "      <td>0</td>\n",
              "      <td>0</td>\n",
              "      <td>...</td>\n",
              "      <td>0</td>\n",
              "      <td>0</td>\n",
              "      <td>1</td>\n",
              "      <td>0</td>\n",
              "      <td>0</td>\n",
              "      <td>0</td>\n",
              "      <td>17.809112</td>\n",
              "      <td>-0.535303</td>\n",
              "      <td>7.673688</td>\n",
              "      <td>9.134938</td>\n",
              "    </tr>\n",
              "    <tr>\n",
              "      <th>8</th>\n",
              "      <td>5-Oct</td>\n",
              "      <td>43868678</td>\n",
              "      <td>0.566283</td>\n",
              "      <td>2065</td>\n",
              "      <td>9300.1</td>\n",
              "      <td>696.4139</td>\n",
              "      <td>0</td>\n",
              "      <td>0</td>\n",
              "      <td>0</td>\n",
              "      <td>0</td>\n",
              "      <td>...</td>\n",
              "      <td>0</td>\n",
              "      <td>0</td>\n",
              "      <td>0</td>\n",
              "      <td>1</td>\n",
              "      <td>0</td>\n",
              "      <td>0</td>\n",
              "      <td>17.596711</td>\n",
              "      <td>-0.568661</td>\n",
              "      <td>7.632886</td>\n",
              "      <td>9.137780</td>\n",
              "    </tr>\n",
              "    <tr>\n",
              "      <th>9</th>\n",
              "      <td>5-Nov</td>\n",
              "      <td>44498684</td>\n",
              "      <td>0.573497</td>\n",
              "      <td>2147</td>\n",
              "      <td>9365.8</td>\n",
              "      <td>696.7292</td>\n",
              "      <td>0</td>\n",
              "      <td>0</td>\n",
              "      <td>0</td>\n",
              "      <td>0</td>\n",
              "      <td>...</td>\n",
              "      <td>0</td>\n",
              "      <td>0</td>\n",
              "      <td>0</td>\n",
              "      <td>0</td>\n",
              "      <td>1</td>\n",
              "      <td>0</td>\n",
              "      <td>17.610970</td>\n",
              "      <td>-0.556003</td>\n",
              "      <td>7.671827</td>\n",
              "      <td>9.144820</td>\n",
              "    </tr>\n",
              "  </tbody>\n",
              "</table>\n",
              "<p>10 rows × 22 columns</p>\n",
              "</div>\n",
              "      <button class=\"colab-df-convert\" onclick=\"convertToInteractive('df-d4593c42-f4ce-4d42-bc19-e88d3fc7fc7c')\"\n",
              "              title=\"Convert this dataframe to an interactive table.\"\n",
              "              style=\"display:none;\">\n",
              "        \n",
              "  <svg xmlns=\"http://www.w3.org/2000/svg\" height=\"24px\"viewBox=\"0 0 24 24\"\n",
              "       width=\"24px\">\n",
              "    <path d=\"M0 0h24v24H0V0z\" fill=\"none\"/>\n",
              "    <path d=\"M18.56 5.44l.94 2.06.94-2.06 2.06-.94-2.06-.94-.94-2.06-.94 2.06-2.06.94zm-11 1L8.5 8.5l.94-2.06 2.06-.94-2.06-.94L8.5 2.5l-.94 2.06-2.06.94zm10 10l.94 2.06.94-2.06 2.06-.94-2.06-.94-.94-2.06-.94 2.06-2.06.94z\"/><path d=\"M17.41 7.96l-1.37-1.37c-.4-.4-.92-.59-1.43-.59-.52 0-1.04.2-1.43.59L10.3 9.45l-7.72 7.72c-.78.78-.78 2.05 0 2.83L4 21.41c.39.39.9.59 1.41.59.51 0 1.02-.2 1.41-.59l7.78-7.78 2.81-2.81c.8-.78.8-2.07 0-2.86zM5.41 20L4 18.59l7.72-7.72 1.47 1.35L5.41 20z\"/>\n",
              "  </svg>\n",
              "      </button>\n",
              "      \n",
              "  <style>\n",
              "    .colab-df-container {\n",
              "      display:flex;\n",
              "      flex-wrap:wrap;\n",
              "      gap: 12px;\n",
              "    }\n",
              "\n",
              "    .colab-df-convert {\n",
              "      background-color: #E8F0FE;\n",
              "      border: none;\n",
              "      border-radius: 50%;\n",
              "      cursor: pointer;\n",
              "      display: none;\n",
              "      fill: #1967D2;\n",
              "      height: 32px;\n",
              "      padding: 0 0 0 0;\n",
              "      width: 32px;\n",
              "    }\n",
              "\n",
              "    .colab-df-convert:hover {\n",
              "      background-color: #E2EBFA;\n",
              "      box-shadow: 0px 1px 2px rgba(60, 64, 67, 0.3), 0px 1px 3px 1px rgba(60, 64, 67, 0.15);\n",
              "      fill: #174EA6;\n",
              "    }\n",
              "\n",
              "    [theme=dark] .colab-df-convert {\n",
              "      background-color: #3B4455;\n",
              "      fill: #D2E3FC;\n",
              "    }\n",
              "\n",
              "    [theme=dark] .colab-df-convert:hover {\n",
              "      background-color: #434B5C;\n",
              "      box-shadow: 0px 1px 3px 1px rgba(0, 0, 0, 0.15);\n",
              "      filter: drop-shadow(0px 1px 2px rgba(0, 0, 0, 0.3));\n",
              "      fill: #FFFFFF;\n",
              "    }\n",
              "  </style>\n",
              "\n",
              "      <script>\n",
              "        const buttonEl =\n",
              "          document.querySelector('#df-d4593c42-f4ce-4d42-bc19-e88d3fc7fc7c button.colab-df-convert');\n",
              "        buttonEl.style.display =\n",
              "          google.colab.kernel.accessAllowed ? 'block' : 'none';\n",
              "\n",
              "        async function convertToInteractive(key) {\n",
              "          const element = document.querySelector('#df-d4593c42-f4ce-4d42-bc19-e88d3fc7fc7c');\n",
              "          const dataTable =\n",
              "            await google.colab.kernel.invokeFunction('convertToInteractive',\n",
              "                                                     [key], {});\n",
              "          if (!dataTable) return;\n",
              "\n",
              "          const docLinkHtml = 'Like what you see? Visit the ' +\n",
              "            '<a target=\"_blank\" href=https://colab.research.google.com/notebooks/data_table.ipynb>data table notebook</a>'\n",
              "            + ' to learn more about interactive tables.';\n",
              "          element.innerHTML = '';\n",
              "          dataTable['output_type'] = 'display_data';\n",
              "          await google.colab.output.renderOutput(dataTable, element);\n",
              "          const docLink = document.createElement('div');\n",
              "          docLink.innerHTML = docLinkHtml;\n",
              "          element.appendChild(docLink);\n",
              "        }\n",
              "      </script>\n",
              "    </div>\n",
              "  </div>\n",
              "  "
            ]
          },
          "metadata": {},
          "execution_count": 6
        }
      ]
    },
    {
      "cell_type": "code",
      "source": [
        "plt.plot(dflog['log_price'],dflog['log_quantity'],\"o\")"
      ],
      "metadata": {
        "colab": {
          "base_uri": "https://localhost:8080/",
          "height": 282
        },
        "id": "m3TMH0JS2bRk",
        "outputId": "cebbf6ce-2e71-49fd-d295-fd18203cdf57"
      },
      "execution_count": 7,
      "outputs": [
        {
          "output_type": "execute_result",
          "data": {
            "text/plain": [
              "[<matplotlib.lines.Line2D at 0x7fb378a40090>]"
            ]
          },
          "metadata": {},
          "execution_count": 7
        },
        {
          "output_type": "display_data",
          "data": {
            "text/plain": [
              "<Figure size 432x288 with 1 Axes>"
            ],
            "image/png": "[encoded data removed]"
          },
          "metadata": {
            "needs_background": "light"
          }
        }
      ]
    },
    {
      "cell_type": "code",
      "source": [
        "from sklearn import linear_model\n",
        "import statsmodels.api as sm\n",
        "\n",
        "Xprice = dflog['log_price']\n",
        "Yprice = dflog['log_quantity']"
      ],
      "metadata": {
        "id": "ldDQzV9k69sV"
      },
      "execution_count": 8,
      "outputs": []
    },
    {
      "cell_type": "code",
      "source": [
        "Xprice = sm.add_constant(Xprice) # adding a constant\n",
        " \n",
        "model = sm.OLS(Yprice, Xprice).fit()\n",
        "predictions = model.predict(Xprice) \n",
        " \n",
        "print_model = model.summary()\n",
        "print(print_model)"
      ],
      "metadata": {
        "colab": {
          "base_uri": "https://localhost:8080/"
        },
        "id": "lAgQ5COi72ww",
        "outputId": "f5bccb92-9048-430a-f4d5-10d60c4b4876"
      },
      "execution_count": 9,
      "outputs": [
        {
          "output_type": "stream",
          "name": "stdout",
          "text": [
            "                            OLS Regression Results                            \n",
            "==============================================================================\n",
            "Dep. Variable:           log_quantity   R-squared:                       0.452\n",
            "Model:                            OLS   Adj. R-squared:                  0.446\n",
            "Method:                 Least Squares   F-statistic:                     80.69\n",
            "Date:                Wed, 23 Nov 2022   Prob (F-statistic):           1.95e-14\n",
            "Time:                        12:28:52   Log-Likelihood:                 23.984\n",
            "No. Observations:                 100   AIC:                            -43.97\n",
            "Df Residuals:                      98   BIC:                            -38.76\n",
            "Df Model:                           1                                         \n",
            "Covariance Type:            nonrobust                                         \n",
            "==============================================================================\n",
            "                 coef    std err          t      P>|t|      [0.025      0.975]\n",
            "------------------------------------------------------------------------------\n",
            "const         16.6703      0.086    193.835      0.000      16.500      16.841\n",
            "log_price     -1.7952      0.200     -8.983      0.000      -2.192      -1.399\n",
            "==============================================================================\n",
            "Omnibus:                        8.528   Durbin-Watson:                   0.608\n",
            "Prob(Omnibus):                  0.014   Jarque-Bera (JB):                8.770\n",
            "Skew:                          -0.686   Prob(JB):                       0.0125\n",
            "Kurtosis:                       2.531   Cond. No.                         12.2\n",
            "==============================================================================\n",
            "\n",
            "Notes:\n",
            "[1] Standard Errors assume that the covariance matrix of the errors is correctly specified.\n"
          ]
        },
        {
          "output_type": "stream",
          "name": "stderr",
          "text": [
            "/usr/local/lib/python3.7/dist-packages/statsmodels/tsa/tsatools.py:142: FutureWarning: In a future version of pandas all arguments of concat except for the argument 'objs' will be keyword-only\n",
            "  x = pd.concat(x[::order], 1)\n"
          ]
        }
      ]
    },
    {
      "cell_type": "markdown",
      "source": [
        "**2. From this single linear regression model, we can see that the coefficient of log(product real price) is -1.80, which means when log real price add by 1 unit, log quantity will decrease by 1.8 units. From the business perspective, the higher the pricing, the lower the demand quatity. The result is reasonable because it matches with economic demand theory of normal goods.**\n",
        "\n",
        "  **The R-square of this single linear regression model is 0.446, which means there near 45% of the data can be explained by the model. The accuracy of this model has opportunity to be improved.** "
      ],
      "metadata": {
        "id": "v1ZdNVroFf5W"
      }
    },
    {
      "cell_type": "code",
      "source": [
        "plt.plot(dflog['log_score'],dflog['log_quantity'],\"o\")"
      ],
      "metadata": {
        "colab": {
          "base_uri": "https://localhost:8080/",
          "height": 282
        },
        "id": "9SFQ7aP0lgxL",
        "outputId": "d8d0b44d-3ca8-46f0-ea47-9f62d374c45b"
      },
      "execution_count": 25,
      "outputs": [
        {
          "output_type": "execute_result",
          "data": {
            "text/plain": [
              "[<matplotlib.lines.Line2D at 0x7fb3699e1310>]"
            ]
          },
          "metadata": {},
          "execution_count": 25
        },
        {
          "output_type": "display_data",
          "data": {
            "text/plain": [
              "<Figure size 432x288 with 1 Axes>"
            ],
            "image/png": "[encoded data removed]"
          },
          "metadata": {
            "needs_background": "light"
          }
        }
      ]
    },
    {
      "cell_type": "code",
      "source": [
        "Xscore = dflog['log_score']\n",
        "Yscore = dflog['log_quantity']\n",
        "\n",
        "Xscore = sm.add_constant(Xscore) \n",
        " \n",
        "model = sm.OLS(Yscore, Xscore).fit()\n",
        "predictions = model.predict(Xscore) \n",
        " \n",
        "print_model = model.summary()\n",
        "print(print_model)"
      ],
      "metadata": {
        "colab": {
          "base_uri": "https://localhost:8080/"
        },
        "id": "ZD0eIEpMlnwX",
        "outputId": "775f34bf-ef6a-44ee-ac5d-2e693137d705"
      },
      "execution_count": 26,
      "outputs": [
        {
          "output_type": "stream",
          "name": "stdout",
          "text": [
            "                            OLS Regression Results                            \n",
            "==============================================================================\n",
            "Dep. Variable:           log_quantity   R-squared:                       0.511\n",
            "Model:                            OLS   Adj. R-squared:                  0.506\n",
            "Method:                 Least Squares   F-statistic:                     102.4\n",
            "Date:                Wed, 23 Nov 2022   Prob (F-statistic):           6.65e-17\n",
            "Time:                        13:21:44   Log-Likelihood:                 29.721\n",
            "No. Observations:                 100   AIC:                            -55.44\n",
            "Df Residuals:                      98   BIC:                            -50.23\n",
            "Df Model:                           1                                         \n",
            "Covariance Type:            nonrobust                                         \n",
            "==============================================================================\n",
            "                 coef    std err          t      P>|t|      [0.025      0.975]\n",
            "------------------------------------------------------------------------------\n",
            "const         14.8188      0.258     57.438      0.000      14.307      15.331\n",
            "log_score      0.3803      0.038     10.120      0.000       0.306       0.455\n",
            "==============================================================================\n",
            "Omnibus:                        7.177   Durbin-Watson:                   0.637\n",
            "Prob(Omnibus):                  0.028   Jarque-Bera (JB):                7.397\n",
            "Skew:                          -0.636   Prob(JB):                       0.0248\n",
            "Kurtosis:                       2.601   Cond. No.                         99.6\n",
            "==============================================================================\n",
            "\n",
            "Notes:\n",
            "[1] Standard Errors assume that the covariance matrix of the errors is correctly specified.\n"
          ]
        },
        {
          "output_type": "stream",
          "name": "stderr",
          "text": [
            "/usr/local/lib/python3.7/dist-packages/statsmodels/tsa/tsatools.py:142: FutureWarning: In a future version of pandas all arguments of concat except for the argument 'objs' will be keyword-only\n",
            "  x = pd.concat(x[::order], 1)\n"
          ]
        }
      ]
    },
    {
      "cell_type": "code",
      "source": [
        "plt.plot(dflog['log_income'],dflog['log_quantity'],\"o\")"
      ],
      "metadata": {
        "colab": {
          "base_uri": "https://localhost:8080/",
          "height": 282
        },
        "id": "BMpiXDUC2-a2",
        "outputId": "e1cc389c-a00e-41c3-ea82-f4dc616f5103"
      },
      "execution_count": 10,
      "outputs": [
        {
          "output_type": "execute_result",
          "data": {
            "text/plain": [
              "[<matplotlib.lines.Line2D at 0x7fb3789b14d0>]"
            ]
          },
          "metadata": {},
          "execution_count": 10
        },
        {
          "output_type": "display_data",
          "data": {
            "text/plain": [
              "<Figure size 432x288 with 1 Axes>"
            ],
            "image/png": "[encoded data removed]"
          },
          "metadata": {
            "needs_background": "light"
          }
        }
      ]
    },
    {
      "cell_type": "code",
      "source": [
        "Xincome = dflog['log_income']\n",
        "Yincome = dflog['log_quantity']\n",
        "\n",
        "Xincome = sm.add_constant(Xincome) \n",
        " \n",
        "model = sm.OLS(Yincome, Xincome).fit()\n",
        "predictions = model.predict(Xincome) \n",
        " \n",
        "print_model = model.summary()\n",
        "print(print_model)"
      ],
      "metadata": {
        "colab": {
          "base_uri": "https://localhost:8080/"
        },
        "id": "hIMGZMDmIFo_",
        "outputId": "71ad6ed3-3e71-4cb1-8e9f-73330ff76173"
      },
      "execution_count": 11,
      "outputs": [
        {
          "output_type": "stream",
          "name": "stdout",
          "text": [
            "                            OLS Regression Results                            \n",
            "==============================================================================\n",
            "Dep. Variable:           log_quantity   R-squared:                       0.354\n",
            "Model:                            OLS   Adj. R-squared:                  0.348\n",
            "Method:                 Least Squares   F-statistic:                     53.74\n",
            "Date:                Wed, 23 Nov 2022   Prob (F-statistic):           6.59e-11\n",
            "Time:                        13:01:25   Log-Likelihood:                 15.811\n",
            "No. Observations:                 100   AIC:                            -27.62\n",
            "Df Residuals:                      98   BIC:                            -22.41\n",
            "Df Model:                           1                                         \n",
            "Covariance Type:            nonrobust                                         \n",
            "==============================================================================\n",
            "                 coef    std err          t      P>|t|      [0.025      0.975]\n",
            "------------------------------------------------------------------------------\n",
            "const         60.6854      5.901     10.283      0.000      48.974      72.396\n",
            "log_income    -4.7008      0.641     -7.331      0.000      -5.973      -3.428\n",
            "==============================================================================\n",
            "Omnibus:                        2.811   Durbin-Watson:                   0.484\n",
            "Prob(Omnibus):                  0.245   Jarque-Bera (JB):                2.603\n",
            "Skew:                          -0.315   Prob(JB):                        0.272\n",
            "Kurtosis:                       2.522   Cond. No.                     2.63e+03\n",
            "==============================================================================\n",
            "\n",
            "Notes:\n",
            "[1] Standard Errors assume that the covariance matrix of the errors is correctly specified.\n",
            "[2] The condition number is large, 2.63e+03. This might indicate that there are\n",
            "strong multicollinearity or other numerical problems.\n"
          ]
        },
        {
          "output_type": "stream",
          "name": "stderr",
          "text": [
            "/usr/local/lib/python3.7/dist-packages/statsmodels/tsa/tsatools.py:142: FutureWarning: In a future version of pandas all arguments of concat except for the argument 'objs' will be keyword-only\n",
            "  x = pd.concat(x[::order], 1)\n"
          ]
        }
      ]
    },
    {
      "cell_type": "markdown",
      "source": [
        "**3. Statisically, the coefficient of -4.7 means 1 unit increase in log(real_disp_pers_inc) results in 4.7 units of log(quantity) decrease. From business perspective, it means if personal disposable incomes are higher, the product quantity sales will be lower. This is a really interesting result.**"
      ],
      "metadata": {
        "id": "ogI1lh5SJj7l"
      }
    },
    {
      "cell_type": "markdown",
      "source": [
        "**4. I can not accept the upper three models because their R-square are relatively low and there will definitely be a better model using this dataset**\n",
        "\n",
        "  **Below is a multilinear regression model which will be more accurate than the upper two single linear ones**\n"
      ],
      "metadata": {
        "id": "AVOA-j2LKa5g"
      }
    },
    {
      "cell_type": "code",
      "source": [
        "# Question 1 Model 1\n",
        "X1 = dflog[['log_price','log_score','product_stores','log_income']]\n",
        "Y1 = dflog['log_quantity']\n",
        "\n",
        "X1 = sm.add_constant(X1) \n",
        "\n",
        "model = sm.OLS(Y1, X1).fit()\n",
        "predictions = model.predict(X1) \n",
        " \n",
        "print_model = model.summary()\n",
        "print(print_model)"
      ],
      "metadata": {
        "colab": {
          "base_uri": "https://localhost:8080/"
        },
        "id": "2kagTH86LET0",
        "outputId": "cc27693d-dd4d-44b3-d269-1064ed5594f2"
      },
      "execution_count": 27,
      "outputs": [
        {
          "output_type": "stream",
          "name": "stdout",
          "text": [
            "                            OLS Regression Results                            \n",
            "==============================================================================\n",
            "Dep. Variable:           log_quantity   R-squared:                       0.640\n",
            "Model:                            OLS   Adj. R-squared:                  0.625\n",
            "Method:                 Least Squares   F-statistic:                     42.24\n",
            "Date:                Wed, 23 Nov 2022   Prob (F-statistic):           2.60e-20\n",
            "Time:                        13:24:54   Log-Likelihood:                 45.050\n",
            "No. Observations:                 100   AIC:                            -80.10\n",
            "Df Residuals:                      95   BIC:                            -67.07\n",
            "Df Model:                           4                                         \n",
            "Covariance Type:            nonrobust                                         \n",
            "==================================================================================\n",
            "                     coef    std err          t      P>|t|      [0.025      0.975]\n",
            "----------------------------------------------------------------------------------\n",
            "const             21.0635      7.621      2.764      0.007       5.934      36.193\n",
            "log_price          1.4282      0.545      2.623      0.010       0.347       2.509\n",
            "log_score          0.3092      0.052      5.993      0.000       0.207       0.412\n",
            "product_stores     0.0063      0.001      4.713      0.000       0.004       0.009\n",
            "log_income        -1.0197      0.816     -1.249      0.215      -2.640       0.601\n",
            "==============================================================================\n",
            "Omnibus:                        5.345   Durbin-Watson:                   0.828\n",
            "Prob(Omnibus):                  0.069   Jarque-Bera (JB):                4.307\n",
            "Skew:                          -0.400   Prob(JB):                        0.116\n",
            "Kurtosis:                       2.373   Cond. No.                     3.24e+05\n",
            "==============================================================================\n",
            "\n",
            "Notes:\n",
            "[1] Standard Errors assume that the covariance matrix of the errors is correctly specified.\n",
            "[2] The condition number is large, 3.24e+05. This might indicate that there are\n",
            "strong multicollinearity or other numerical problems.\n"
          ]
        },
        {
          "output_type": "stream",
          "name": "stderr",
          "text": [
            "/usr/local/lib/python3.7/dist-packages/statsmodels/tsa/tsatools.py:142: FutureWarning: In a future version of pandas all arguments of concat except for the argument 'objs' will be keyword-only\n",
            "  x = pd.concat(x[::order], 1)\n"
          ]
        }
      ]
    },
    {
      "cell_type": "markdown",
      "source": [
        "**From the upper multi-linear regression model, we can see that the R-sqaure shows that the model is way more accurate. However, there is one variable log_income's P-value higher than 0.05. A p-value greater than 0.05 means that deviation from the null hypothesis is not statistically significant, and the null hypothesis is not rejected. Therefore we have to remove this variable and redo the model**"
      ],
      "metadata": {
        "id": "0bDKZerHL4fM"
      }
    },
    {
      "cell_type": "code",
      "source": [
        "X1 = dflog[['log_price','log_score','product_stores']]\n",
        "Y1 = dflog['log_quantity']\n",
        "\n",
        "X1 = sm.add_constant(X1) \n",
        "\n",
        "model = sm.OLS(Y1, X1).fit()\n",
        "predictions = model.predict(X1) \n",
        " \n",
        "print_model = model.summary()\n",
        "print(print_model)"
      ],
      "metadata": {
        "colab": {
          "base_uri": "https://localhost:8080/"
        },
        "id": "sb7p3lcbM4L2",
        "outputId": "d52d48e1-6d7e-442c-cb43-c67d5ea234b4"
      },
      "execution_count": 28,
      "outputs": [
        {
          "output_type": "stream",
          "name": "stdout",
          "text": [
            "                            OLS Regression Results                            \n",
            "==============================================================================\n",
            "Dep. Variable:           log_quantity   R-squared:                       0.634\n",
            "Model:                            OLS   Adj. R-squared:                  0.623\n",
            "Method:                 Least Squares   F-statistic:                     55.48\n",
            "Date:                Wed, 23 Nov 2022   Prob (F-statistic):           6.84e-21\n",
            "Time:                        13:26:05   Log-Likelihood:                 44.235\n",
            "No. Observations:                 100   AIC:                            -80.47\n",
            "Df Residuals:                      96   BIC:                            -70.05\n",
            "Df Model:                           3                                         \n",
            "Covariance Type:            nonrobust                                         \n",
            "==================================================================================\n",
            "                     coef    std err          t      P>|t|      [0.025      0.975]\n",
            "----------------------------------------------------------------------------------\n",
            "const             11.6031      0.851     13.635      0.000       9.914      13.292\n",
            "log_price          1.1418      0.495      2.305      0.023       0.159       2.125\n",
            "log_score          0.3173      0.051      6.182      0.000       0.215       0.419\n",
            "product_stores     0.0062      0.001      4.606      0.000       0.004       0.009\n",
            "==============================================================================\n",
            "Omnibus:                        5.557   Durbin-Watson:                   0.826\n",
            "Prob(Omnibus):                  0.062   Jarque-Bera (JB):                4.853\n",
            "Skew:                          -0.454   Prob(JB):                       0.0884\n",
            "Kurtosis:                       2.418   Cond. No.                     4.07e+04\n",
            "==============================================================================\n",
            "\n",
            "Notes:\n",
            "[1] Standard Errors assume that the covariance matrix of the errors is correctly specified.\n",
            "[2] The condition number is large, 4.07e+04. This might indicate that there are\n",
            "strong multicollinearity or other numerical problems.\n"
          ]
        },
        {
          "output_type": "stream",
          "name": "stderr",
          "text": [
            "/usr/local/lib/python3.7/dist-packages/statsmodels/tsa/tsatools.py:142: FutureWarning: In a future version of pandas all arguments of concat except for the argument 'objs' will be keyword-only\n",
            "  x = pd.concat(x[::order], 1)\n"
          ]
        }
      ]
    },
    {
      "cell_type": "code",
      "source": [
        "regr1 = linear_model.LinearRegression()\n",
        "regr1.fit(X1, Y1)\n",
        "\n",
        "print('Intercept: \\n', regr1.intercept_)\n",
        "print('Coefficients: \\n', regr1.coef_)"
      ],
      "metadata": {
        "colab": {
          "base_uri": "https://localhost:8080/"
        },
        "id": "-oTaXfNeN0Cc",
        "outputId": "b5629934-b0a9-4b3c-dc2a-faa796fd0738"
      },
      "execution_count": 29,
      "outputs": [
        {
          "output_type": "stream",
          "name": "stdout",
          "text": [
            "Intercept: \n",
            " 11.603121098036237\n",
            "Coefficients: \n",
            " [0.         1.14179511 0.3173159  0.00618479]\n"
          ]
        }
      ]
    },
    {
      "cell_type": "markdown",
      "source": [
        "**The upper model is the answer to Question 1, with a R-sqaure of 0.634.**\n",
        "\n",
        "**IN CONCLUSION, THE FORMULA RESULT FOR MODEL 1 IS:**\n",
        "\n",
        "# **log(quantity) = 1.1418 * log(product_real_price) + 0.3173 * log(service_score) + 0.0062 * product_stores + 11.6**"
      ],
      "metadata": {
        "id": "QdbzkYK5NBQe"
      }
    },
    {
      "cell_type": "code",
      "source": [
        "# Question 5 Model 2 MO4 Added\n",
        "X2 = dflog[['log_price','log_score','product_stores','log_income','M04']]\n",
        "Y2 = dflog['log_quantity']\n",
        "\n",
        "X2 = sm.add_constant(X2) \n",
        "\n",
        "model = sm.OLS(Y2, X2).fit()\n",
        "predictions = model.predict(X2) \n",
        " \n",
        "print_model = model.summary()\n",
        "print(print_model)"
      ],
      "metadata": {
        "colab": {
          "base_uri": "https://localhost:8080/"
        },
        "id": "GMyQ8X9BPyoI",
        "outputId": "a0457ada-e2f8-4771-869b-3bb0df15c30d"
      },
      "execution_count": null,
      "outputs": [
        {
          "output_type": "stream",
          "name": "stdout",
          "text": [
            "                            OLS Regression Results                            \n",
            "==============================================================================\n",
            "Dep. Variable:           log_quantity   R-squared:                       0.658\n",
            "Model:                            OLS   Adj. R-squared:                  0.640\n",
            "Method:                 Least Squares   F-statistic:                     36.14\n",
            "Date:                Thu, 29 Sep 2022   Prob (F-statistic):           1.76e-20\n",
            "Time:                        17:16:49   Log-Likelihood:                 47.570\n",
            "No. Observations:                 100   AIC:                            -83.14\n",
            "Df Residuals:                      94   BIC:                            -67.51\n",
            "Df Model:                           5                                         \n",
            "Covariance Type:            nonrobust                                         \n",
            "==================================================================================\n",
            "                     coef    std err          t      P>|t|      [0.025      0.975]\n",
            "----------------------------------------------------------------------------------\n",
            "const             20.3600      7.478      2.723      0.008       5.513      35.207\n",
            "log_price          1.3805      0.534      2.584      0.011       0.320       2.441\n",
            "log_score          0.3047      0.051      6.020      0.000       0.204       0.405\n",
            "product_stores     0.0063      0.001      4.810      0.000       0.004       0.009\n",
            "log_income        -0.9436      0.801     -1.178      0.242      -2.534       0.647\n",
            "M04                0.1198      0.054      2.204      0.030       0.012       0.228\n",
            "==============================================================================\n",
            "Omnibus:                        3.016   Durbin-Watson:                   0.977\n",
            "Prob(Omnibus):                  0.221   Jarque-Bera (JB):                2.597\n",
            "Skew:                          -0.290   Prob(JB):                        0.273\n",
            "Kurtosis:                       2.464   Cond. No.                     3.24e+05\n",
            "==============================================================================\n",
            "\n",
            "Notes:\n",
            "[1] Standard Errors assume that the covariance matrix of the errors is correctly specified.\n",
            "[2] The condition number is large, 3.24e+05. This might indicate that there are\n",
            "strong multicollinearity or other numerical problems.\n"
          ]
        },
        {
          "output_type": "stream",
          "name": "stderr",
          "text": [
            "/usr/local/lib/python3.7/dist-packages/statsmodels/tsa/tsatools.py:142: FutureWarning: In a future version of pandas all arguments of concat except for the argument 'objs' will be keyword-only\n",
            "  x = pd.concat(x[::order], 1)\n"
          ]
        }
      ]
    },
    {
      "cell_type": "markdown",
      "source": [
        "  **The addition of M04 raised the model's accuracy by increasing R-square.**\n",
        "\n",
        "**6. Statisically, the coefficient of 1.38 means 1 unit increase in log(product real price) results in 1.38 units of log(quantity) increase.**\n",
        "\n",
        "**7. I can not comment on log(real_disp_pers_inc) because this variable is still not significant with a P-value of 0.242, which is larger than 0.05.**\n",
        "\n",
        "**Q6&7 From demand theory, the lower the price is, the higher the demand should be. However, the coeffeicient of this model shows that the higher the price is, the higher the demand. This is a very interesting result, because the coefficient of log(price) violate the demand theory.**\n",
        "\n",
        "**This result might caused by the interaction between each independent variable and the high P-value of log(price) can prove that this variable is not the most significant variable that influence the outcome of the model.**\n",
        "\n",
        "**8. 1 unit higher in average number of stores selling this product can result in 0.006 units of log(quantity) = around 1 unit of quantity increase.**"
      ],
      "metadata": {
        "id": "6wxd8XXiUYF1"
      }
    },
    {
      "cell_type": "code",
      "source": [
        "#Q9\n",
        "X3 = dflog[['log_price','log_score','product_stores','log_income','M01','M02','M03','M04','M05','M06','M07','M08','M09','M10','M11','M12']]\n",
        "Y3 = dflog['log_quantity']\n",
        "\n",
        "X3 = sm.add_constant(X3) \n",
        "\n",
        "model = sm.OLS(Y3, X3).fit()\n",
        "predictions = model.predict(X3) \n",
        " \n",
        "print_model = model.summary()\n",
        "print(print_model)"
      ],
      "metadata": {
        "colab": {
          "base_uri": "https://localhost:8080/"
        },
        "id": "uz3APEAaXfhR",
        "outputId": "662bd9c0-d941-4847-965a-787dbe9a58b0"
      },
      "execution_count": null,
      "outputs": [
        {
          "output_type": "stream",
          "name": "stdout",
          "text": [
            "                            OLS Regression Results                            \n",
            "==============================================================================\n",
            "Dep. Variable:           log_quantity   R-squared:                       0.940\n",
            "Model:                            OLS   Adj. R-squared:                  0.929\n",
            "Method:                 Least Squares   F-statistic:                     87.54\n",
            "Date:                Thu, 29 Sep 2022   Prob (F-statistic):           1.17e-44\n",
            "Time:                        17:51:27   Log-Likelihood:                 134.52\n",
            "No. Observations:                 100   AIC:                            -237.0\n",
            "Df Residuals:                      84   BIC:                            -195.4\n",
            "Df Model:                          15                                         \n",
            "Covariance Type:            nonrobust                                         \n",
            "==================================================================================\n",
            "                     coef    std err          t      P>|t|      [0.025      0.975]\n",
            "----------------------------------------------------------------------------------\n",
            "const              7.1527      3.168      2.258      0.027       0.853      13.452\n",
            "log_price         -0.7633      0.274     -2.790      0.007      -1.307      -0.219\n",
            "log_score          0.2108      0.023      9.103      0.000       0.165       0.257\n",
            "product_stores     0.0020      0.001      3.122      0.002       0.001       0.003\n",
            "log_income         0.7116      0.372      1.912      0.059      -0.029       1.452\n",
            "M01                0.3542      0.268      1.319      0.191      -0.180       0.888\n",
            "M02                0.4191      0.266      1.574      0.119      -0.110       0.949\n",
            "M03                0.6805      0.265      2.567      0.012       0.153       1.208\n",
            "M04                0.7148      0.264      2.708      0.008       0.190       1.240\n",
            "M05                0.7194      0.266      2.703      0.008       0.190       1.249\n",
            "M06                0.7337      0.264      2.778      0.007       0.209       1.259\n",
            "M07                0.7264      0.263      2.758      0.007       0.203       1.250\n",
            "M08                0.7564      0.263      2.874      0.005       0.233       1.280\n",
            "M09                0.6558      0.263      2.498      0.014       0.134       1.178\n",
            "M10                0.6116      0.263      2.325      0.022       0.089       1.135\n",
            "M11                0.4754      0.265      1.796      0.076      -0.051       1.002\n",
            "M12                0.3052      0.269      1.134      0.260      -0.230       0.840\n",
            "==============================================================================\n",
            "Omnibus:                        2.244   Durbin-Watson:                   2.331\n",
            "Prob(Omnibus):                  0.326   Jarque-Bera (JB):                1.644\n",
            "Skew:                           0.263   Prob(JB):                        0.440\n",
            "Kurtosis:                       3.343   Cond. No.                     8.46e+18\n",
            "==============================================================================\n",
            "\n",
            "Notes:\n",
            "[1] Standard Errors assume that the covariance matrix of the errors is correctly specified.\n",
            "[2] The smallest eigenvalue is 6.23e-31. This might indicate that there are\n",
            "strong multicollinearity problems or that the design matrix is singular.\n"
          ]
        },
        {
          "output_type": "stream",
          "name": "stderr",
          "text": [
            "/usr/local/lib/python3.7/dist-packages/statsmodels/tsa/tsatools.py:142: FutureWarning: In a future version of pandas all arguments of concat except for the argument 'objs' will be keyword-only\n",
            "  x = pd.concat(x[::order], 1)\n"
          ]
        }
      ]
    },
    {
      "cell_type": "markdown",
      "source": [
        "**9. When all Mxx are included as independent variables, the model's R square reaches 93%**"
      ],
      "metadata": {
        "id": "CgrPmAStDXLN"
      }
    },
    {
      "cell_type": "markdown",
      "source": [
        "**10. The coefficient of M08 shows that August is the highest selling month for this product. M04 - M08 own relatively higher coefficient means this product is highly probablly a summer item, maybe a Tee or a shorts.**\n",
        "\n",
        "\n",
        "**11. The model with all Mxx included is with a nearly perfect R-sqaure of 0.929, which means 93% of the data can be explained by this model. This model can be totally accepted because it shows seasonality can optimize this model's degree of fitting**"
      ],
      "metadata": {
        "id": "LaTF1SKVYMMm"
      }
    }
  ]
}